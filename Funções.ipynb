{
  "nbformat": 4,
  "nbformat_minor": 0,
  "metadata": {
    "colab": {
      "provenance": [],
      "authorship_tag": "ABX9TyONNy2FDY6Ysrzk3o817i4h",
      "include_colab_link": true
    },
    "kernelspec": {
      "name": "python3",
      "display_name": "Python 3"
    },
    "language_info": {
      "name": "python"
    }
  },
  "cells": [
    {
      "cell_type": "markdown",
      "metadata": {
        "id": "view-in-github",
        "colab_type": "text"
      },
      "source": [
        "<a href=\"https://colab.research.google.com/github/LucasMeirellesS/funcoes_ds_estudo/blob/main/Fun%C3%A7%C3%B5es.ipynb\" target=\"_parent\"><img src=\"https://colab.research.google.com/assets/colab-badge.svg\" alt=\"Open In Colab\"/></a>"
      ]
    },
    {
      "cell_type": "code",
      "execution_count": null,
      "metadata": {
        "id": "hj4znHldNMn4"
      },
      "outputs": [],
      "source": [
        "def CreatePipeline(data , num_features, cat_features, style = 0, to_array=True):\n",
        "  if style == 0:\n",
        "    pipe = make_column_transformer(\n",
        "        [StandardScaler(), num_features],\n",
        "        [OneHotEncoder(), cat_features]\n",
        "    )\n",
        "  elif style == 1:\n",
        "    pipe = make_column_transformer(\n",
        "       [PowerTransformer(), num_features],\n",
        "        [OneHotEncoder(), cat_features]\n",
        "    )\n",
        "  elif style == 2:\n",
        "    pipe = make_column_transformer(\n",
        "        [make_pipeline(PowerTransformer(), StandardScaler()), num_features],\n",
        "        [OneHotEncoder(), cat_features]\n",
        "    )\n",
        "\n",
        "  pipe.fit(data)\n",
        "  if to_array:\n",
        "    return pipe.transform(data).toarray()\n",
        "  else:\n",
        "    return pipe.transform(data)"
      ]
    },
    {
      "cell_type": "code",
      "source": [
        "def getDummiesLE(df, columns):\n",
        "  from sklearn.preprocessing import LabelEncoder\n",
        "  le = LabelEncoder()\n",
        "  for item in columns:\n",
        "    le.fit(df[item])\n",
        "    df[item] = le.fit_transform(df[item])\n"
      ],
      "metadata": {
        "id": "f3EHjRR0NTbL"
      },
      "execution_count": null,
      "outputs": []
    },
    {
      "cell_type": "code",
      "source": [
        "# Plotar dataframes lado a lado\n",
        "def display_side_by_side(dataframes:list,titles:list):\n",
        "    html_str=''\n",
        "    for df,title in zip(dataframes, titles):\n",
        "        html_str+=f'<span>{title}:</span>'\n",
        "        html_str+=df.to_html().replace('table','table style=\"display:inline\"')\n",
        "        html_str+=\"&nbsp\"*10\n",
        "    display(HTML(html_str))"
      ],
      "metadata": {
        "id": "n4dJBoJ-NW-L"
      },
      "execution_count": null,
      "outputs": []
    },
    {
      "cell_type": "code",
      "source": [
        "def is_outlier(array, extreme=False):\n",
        "  \"\"\"Custom function to identify outliers in an array\"\"\"\n",
        "  q1,q3 = np.quantile(array, [.25,.75])\n",
        "  iqr = q3-q1\n",
        "\n",
        "  factor = 3. if extreme else 1.5\n",
        "  upper_outlier = q3 + factor*iqr\n",
        "  lower_outlier = q1 - factor*iqr\n",
        "\n",
        "  return (array < lower_outlier) | (array > upper_outlier)"
      ],
      "metadata": {
        "id": "MN0lPi2VNtqb"
      },
      "execution_count": null,
      "outputs": []
    },
    {
      "cell_type": "code",
      "source": [
        "def getMetrics(model, x, y, r_sq = True):\n",
        "  x_train, x_test, y_train, y_test = train_test_split(x, y, test_size=0.25, random_state=42)\n",
        "  y_pred = model.predict(x_test)\n",
        "\n",
        "  if r_sq:\n",
        "    print(f\"R^2: {model.score(x,y)}\")\n",
        "    print(f\"MAE: {metrics.mean_absolute_error(y_test, y_pred)}\")\n",
        "    print(f\"MSE: {metrics.mean_squared_error(y_test, y_pred)}\")\n",
        "    print(f\"RMSE: {np.sqrt(metrics.mean_squared_error(y_test, y_pred))}\")\n",
        "  else:\n",
        "    print(f\"MAE: {metrics.mean_absolute_error(y_test, y_pred)}\")\n",
        "    print(f\"MSE: {metrics.mean_squared_error(y_test, y_pred)}\")\n",
        "    print(f\"RMSE: {np.sqrt(metrics.mean_squared_error(y_test, y_pred))}\")\n"
      ],
      "metadata": {
        "id": "pRzD7qHCN9JJ"
      },
      "execution_count": null,
      "outputs": []
    },
    {
      "cell_type": "code",
      "source": [
        "def getDummiesOHE(df, columns, dop_binary=False):\n",
        "  from sklearn.preprocessing import OneHotEncoder\n",
        "  if dop_binary:\n",
        "    encoder = OneHotEncoder(drop=\"if_binary\")\n",
        "  else:\n",
        "    encoder = OneHotEncoder()\n",
        "  dohe = pd.DataFrame(encoder.fit_transform(df[columns]).toarray(), index= df.index, columns = encoder.get_feature_names_out())\n",
        "  df.drop(columns, axis = 1, inplace=True)\n",
        "  dohe = df.join(dohe)\n",
        "  return dohe"
      ],
      "metadata": {
        "id": "wElAvn6_EJLv"
      },
      "execution_count": null,
      "outputs": []
    },
    {
      "cell_type": "code",
      "source": [
        "def get_regex(column:str, regex:str):\n",
        "  match =re.search(regex, column)\n",
        "  return None if match is None else match.group()"
      ],
      "metadata": {
        "id": "LnjYi7P5E1U7"
      },
      "execution_count": null,
      "outputs": []
    },
    {
      "cell_type": "code",
      "source": [
        "def plot_category_count(category:pd.Series, figsize=(16, 8)):\n",
        "    \"\"\"Categorias como index\"\"\"\n",
        "    fig, ax = plt.subplots(figsize=figsize)\n",
        "    ax.barh(category.index, category.values)\n",
        "    ax.grid(True, linestyle='--')\n",
        "    ax.set_xlabel('Count')\n",
        "    return fig, ax"
      ],
      "metadata": {
        "id": "eLpi_YjRv11-"
      },
      "execution_count": null,
      "outputs": []
    },
    {
      "cell_type": "code",
      "source": [
        "def esparsidade(ratings:int, users:int, items:int):\n",
        "  return 1 -(ratings/(users*items))"
      ],
      "metadata": {
        "id": "ba5RcRCCv1uL"
      },
      "execution_count": null,
      "outputs": []
    },
    {
      "cell_type": "code",
      "source": [
        "from datetime import datetime\n",
        "def convert_timestamp_to_date(timestamp:int):\n",
        "    return datetime.fromtimestamp(timestamp).date()"
      ],
      "metadata": {
        "id": "XP8CYYKhv1iQ"
      },
      "execution_count": null,
      "outputs": []
    },
    {
      "cell_type": "code",
      "source": [
        "def plot_sparsity_distribution(sparsity, ylabel, figsize=(16,8), bins=100):\n",
        "    fig, ax = plt.subplots(figsize=figsize)\n",
        "    ax.grid(True, linestyle='--')\n",
        "    ax.hist(100*sparsity, bins=bins)\n",
        "    ax.set_ylabel(ylabel)\n",
        "    ax.set_xlabel('Sparsity')\n",
        "    ax.set_xlim(right=100.0)\n",
        "    xticks = matplotlib.ticker.FormatStrFormatter('%.0f%%')\n",
        "    ax.xaxis.set_major_formatter(xticks)\n",
        "    return fig, ax"
      ],
      "metadata": {
        "id": "79D-4ldwUY0j"
      },
      "execution_count": null,
      "outputs": []
    },
    {
      "cell_type": "code",
      "source": [
        "def extract_year_from_month(date):\n",
        "  return f'{date.year:04d}-{date.month:02d}'"
      ],
      "metadata": {
        "id": "amQZSbtQn8Zw"
      },
      "execution_count": null,
      "outputs": []
    }
  ]
}